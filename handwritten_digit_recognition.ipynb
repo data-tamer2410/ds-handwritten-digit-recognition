{
  "cells": [
    {
      "cell_type": "markdown",
      "metadata": {
        "id": "view-in-github",
        "colab_type": "text"
      },
      "source": [
        "<a href=\"https://colab.research.google.com/github/data-tamer2410/ds-handwritten-digit-recognition/blob/main/handwritten_digit_recognition.ipynb\" target=\"_parent\"><img src=\"https://colab.research.google.com/assets/colab-badge.svg\" alt=\"Open In Colab\"/></a>"
      ]
    },
    {
      "cell_type": "markdown",
      "source": [
        "# Task."
      ],
      "metadata": {
        "id": "WDH62800jjbN"
      }
    },
    {
      "cell_type": "markdown",
      "source": [
        "Create a neural network that recognizes handwritten numbers."
      ],
      "metadata": {
        "id": "cgJbopKVjmih"
      }
    },
    {
      "cell_type": "markdown",
      "metadata": {
        "id": "b0Yf4NBJUSNM"
      },
      "source": [
        "# Creating a neural network.\n",
        "\n",
        "The architecture of the neural network is presented in the following figure. It has one input layer, two hidden layers, and an output layer. The sigmoid will be used as the activation function in the hidden layers. On the output layer we use softmax."
      ]
    },
    {
      "cell_type": "markdown",
      "metadata": {
        "id": "01rZWUu0USNQ"
      },
      "source": [
        "## The architecture of the neural network.\n",
        "\n",
        "<img src=\"http://cs231n.github.io/assets/nn1/neural_net2.jpeg\" alt=\"nn\" style=\"width: 400px;\"/>\n"
      ]
    },
    {
      "cell_type": "markdown",
      "metadata": {
        "id": "LLvIZ705Qw_V"
      },
      "source": [
        "## About dataset MNIST.\n",
        "\n",
        "We will study this neural network on the MNIST dataset. This dataset is a large number of images of handwritten digits of size $28 \\times 28$ pixels. Each pixel takes a value from 0 to 255.\n",
        "\n",
        "The dataset will be divided into training and test samples. At the same time, we will normalize all images so that the pixel value is between 0 and 1 by dividing the brightness of each pixel by 255.\n",
        "\n",
        "In addition, the architecture of the neural network expects an input vector. In our case, each sample object is a matrix. What to do? In this task, we will \"stretch\" the $28 \\times 28$ matrix, thus obtaining a vector consisting of 784 elements.\n",
        "\n",
        "![MNIST Dataset](https://www.researchgate.net/profile/Steven-Young-5/publication/306056875/figure/fig1/AS:393921575309346@1470929630835/Example-images-from-the-MNIST-dataset.png)\n",
        "\n",
        "\n",
        "More information about the dataset can be found [here](http://yann.lecun.com/exdb/mnist/)."
      ]
    },
    {
      "cell_type": "markdown",
      "source": [
        "## Data loading and preparation."
      ],
      "metadata": {
        "id": "lk3s3Xs8N5ah"
      }
    },
    {
      "cell_type": "code",
      "execution_count": 213,
      "metadata": {
        "id": "il_0_5OyUSNR"
      },
      "outputs": [],
      "source": [
        "import tensorflow as tf\n",
        "import numpy as np\n",
        "import pandas as pd\n",
        "import matplotlib.pyplot as plt\n",
        "import random\n",
        "import keras\n",
        "import seaborn as sns\n",
        "from sklearn.metrics import classification_report, f1_score, roc_auc_score\n",
        "from sklearn.model_selection import StratifiedKFold"
      ]
    },
    {
      "cell_type": "code",
      "execution_count": 214,
      "metadata": {
        "id": "pGTXiRyTUSNT"
      },
      "outputs": [],
      "source": [
        "from keras.datasets import mnist\n",
        "\n",
        "# Download the dataset\n",
        "(x_train, y_train), (x_test, y_test) = mnist.load_data()\n",
        "\n",
        "# Convert integer pixels to float32 type\n",
        "x_train, x_test = np.array(x_train, np.float32), np.array(x_test, np.float32)\n",
        "\n",
        "# We convert 28x28 pixel matrices into a vector of 784 elements\n",
        "x_train, x_test = x_train.reshape([-1, num_features]), x_test.reshape([-1, num_features])\n",
        "\n",
        "# Normalize pixel values\n",
        "x_train, x_test = x_train / 255., x_test / 255.\n",
        "\n",
        "# Let's shuffle the training data\n",
        "train_data = tf.data.Dataset.from_tensor_slices((x_train, y_train))\n",
        "train_data = train_data.repeat().shuffle(5000).batch(batch_size).prefetch(1)"
      ]
    },
    {
      "cell_type": "markdown",
      "source": [
        "## Network construction and training."
      ],
      "metadata": {
        "id": "Vf28ja5OMsVQ"
      }
    },
    {
      "cell_type": "code",
      "execution_count": 215,
      "metadata": {
        "id": "cd-1_abTUSNS"
      },
      "outputs": [],
      "source": [
        "num_classes = 10 # total number of classes, in our case these are numbers from 0 to 9\n",
        "num_features = 784 # number of attributes of the input vector 28 * 28 = 784\n",
        "\n",
        "learning_rate = 0.001 # learning rate of the neural network\n",
        "training_steps = 3000 # maximum number of epochs\n",
        "batch_size = 256 # we will calculate the weights of the network not on the entire sample, but on its random subset of batch_size elements\n",
        "display_step = 100 # every 100 iterations we will show the current value of the loss and accuracy function\n",
        "\n",
        "n_hidden_1 = 128 # number of neurons of the 1st layer\n",
        "n_hidden_2 = 256 # number of neurons of the 2nd layer"
      ]
    },
    {
      "cell_type": "code",
      "execution_count": 216,
      "metadata": {
        "id": "FkRmCQjnUSNV"
      },
      "outputs": [],
      "source": [
        "# Let's create a neural network\n",
        "\n",
        "class DenseLayer(tf.Module):\n",
        "    def __init__(self, in_features, out_features, name=None):\n",
        "        super().__init__(name=name)\n",
        "        self.w = tf.Variable(\n",
        "            tf.random.normal([in_features, out_features]), name=\"w\"\n",
        "        )\n",
        "        self.b = tf.Variable(tf.zeros([out_features]), name=\"b\")\n",
        "\n",
        "    def __call__(self, x, activation=0):\n",
        "        y = tf.matmul(x, self.w) + self.b\n",
        "        if activation != 0:\n",
        "            return tf.nn.softmax(y)\n",
        "        else:\n",
        "            return tf.nn.sigmoid(y)\n",
        "\n",
        "class NN(tf.Module):\n",
        "  def __init__(self, name=None):\n",
        "    super().__init__(name=name)\n",
        "    # The first layer, which consists of 128 neurons\n",
        "    self.layer_1 = DenseLayer(num_features,n_hidden_1,name='layer_1')\n",
        "    # The second layer, which consists of 256 neurons\n",
        "    self.layer_2 = DenseLayer(n_hidden_1,n_hidden_2,name='layer_2')\n",
        "    # Output layer\n",
        "    self.out_layer = DenseLayer(n_hidden_2,num_classes,name='out_layer')\n",
        "\n",
        "\n",
        "  def __call__(self, x):\n",
        "    # Data transmission through the first two layers and the output layer with activation function softmax\n",
        "    x = self.layer_1(x)\n",
        "    x = self.layer_2(x)\n",
        "    x = self.out_layer(x,activation=1)\n",
        "    return x"
      ]
    },
    {
      "cell_type": "code",
      "execution_count": 217,
      "metadata": {
        "id": "LIf3o7VAUSNV"
      },
      "outputs": [],
      "source": [
        "# In this case, it is convenient to take the cross-entropy as the error function\n",
        "def cross_entropy(y_pred, y_true):\n",
        "    # Encode label in one hot vector\n",
        "    y_true = tf.one_hot(y_true, depth=num_classes)\n",
        "\n",
        "    # Prediction value to avoid log(0) error.\n",
        "    y_pred = tf.clip_by_value(y_pred, 1e-9, 1.)\n",
        "\n",
        "    # Calculation of cross-entropy\n",
        "    return tf.reduce_mean(-tf.reduce_sum(y_true * tf.math.log(y_pred)))\n",
        "\n",
        "# We use accuracy as a quality metric\n",
        "def accuracy(y_pred, y_true):\n",
        "    correct_pred = tf.equal(y_pred,y_true)\n",
        "    return tf.reduce_mean(tf.cast(correct_pred,tf.float32))"
      ]
    },
    {
      "cell_type": "code",
      "execution_count": 218,
      "metadata": {
        "id": "MQeT1yatUSNW"
      },
      "outputs": [],
      "source": [
        "# Neural network training function\n",
        "def train(neural_net, input_x, output_y):\n",
        "  # To adjust the weights of the network, we will use stochastic gradient descent\n",
        "  optimizer = tf.optimizers.SGD(learning_rate)\n",
        "\n",
        "  # Activation of automatic differentiation\n",
        "  with tf.GradientTape() as g:\n",
        "    pred = neural_net(input_x)\n",
        "    loss = cross_entropy(pred, output_y)\n",
        "\n",
        "    # We will get a list of optimized parameters\n",
        "    w = neural_net.trainable_variables\n",
        "\n",
        "    # Let's calculate the value of the gradient based on them\n",
        "    gradients = g.gradient(loss,w)\n",
        "\n",
        "    # We modify the parameters\n",
        "    optimizer.apply_gradients(zip(gradients,w))"
      ]
    },
    {
      "cell_type": "code",
      "execution_count": 219,
      "metadata": {
        "id": "fnyns9lBfpQZ"
      },
      "outputs": [],
      "source": [
        "# Let's create an instance of a neural network\n",
        "neural_net = NN(name=\"mnist\")\n",
        "\n",
        "# Network training\n",
        "\n",
        "loss_history = []\n",
        "accuracy_history = []\n",
        "\n",
        "# In this cycle, we will train the neural network\n",
        "for step, (batch_x, batch_y) in enumerate(train_data.take(training_steps), 1):\n",
        "    # We update the weights of the neural network\n",
        "    train(neural_net,batch_x,batch_y)\n",
        "\n",
        "    if step % display_step == 0:\n",
        "        y_pred_proba = neural_net(batch_x)\n",
        "        y_pred = tf.argmax(y_pred_proba,axis=1,output_type=tf.int32)\n",
        "        y_true = tf.cast(batch_y,tf.int32)\n",
        "\n",
        "        loss_history.append(cross_entropy(y_pred_proba,y_true))\n",
        "        accuracy_history.append(accuracy(y_pred,y_true))"
      ]
    },
    {
      "cell_type": "markdown",
      "source": [
        "## Assessment of network performance."
      ],
      "metadata": {
        "id": "baRXTptdNRx1"
      }
    },
    {
      "cell_type": "code",
      "execution_count": 194,
      "metadata": {
        "id": "_yCBfG6MbQB2",
        "colab": {
          "base_uri": "https://localhost:8080/",
          "height": 487
        },
        "outputId": "8840c33b-85b7-4574-fff7-cc90e8a6f395"
      },
      "outputs": [
        {
          "output_type": "display_data",
          "data": {
            "text/plain": [
              "<Figure size 1200x500 with 2 Axes>"
            ],
            "image/png": "[encoded data removed]"
          },
          "metadata": {}
        }
      ],
      "source": [
        "# Graphs of the dependence of the change in accuracy and losses on the step\n",
        "# If done correctly, accuracy should increase and losses should decrease\n",
        "\n",
        "import matplotlib.pyplot as plt\n",
        "\n",
        "x = np.arange(len(loss_history))\n",
        "\n",
        "fig, axs = plt.subplots(ncols=2,figsize=(12,5))\n",
        "\n",
        "# Graph of the loss function\n",
        "axs[0].plot(x,loss_history)\n",
        "\n",
        "axs[0].set_title('Loss Func Graph')\n",
        "axs[0].set_xlabel('Steps')\n",
        "axs[0].set_ylabel('Cross Entropy')\n",
        "axs[0].set_xticks((x[0],x[-1]),(0,training_steps))\n",
        "\n",
        "# Accuracy graph\n",
        "axs[1].plot(x,accuracy_history)\n",
        "\n",
        "axs[1].set_title('Accuracy Graph')\n",
        "axs[1].set_xlabel('Steps')\n",
        "axs[1].set_ylabel('Accuracy')\n",
        "axs[1].set_xticks((x[0],x[-1]),(0,training_steps))\n",
        "\n",
        "\n",
        "plt.show()"
      ]
    },
    {
      "cell_type": "code",
      "execution_count": 195,
      "metadata": {
        "id": "LE3g4gDyUSNY",
        "colab": {
          "base_uri": "https://localhost:8080/"
        },
        "outputId": "dba57442-68be-4e2c-dec4-24dce2913e03"
      },
      "outputs": [
        {
          "output_type": "stream",
          "name": "stdout",
          "text": [
            "Accuracy on train data: 0.9240666627883911\n",
            "\n",
            "Classification report on test data:\n",
            "              precision    recall  f1-score   support\n",
            "\n",
            "           0       0.94      0.95      0.95       980\n",
            "           1       0.97      0.98      0.98      1135\n",
            "           2       0.90      0.88      0.89      1032\n",
            "           3       0.89      0.88      0.88      1010\n",
            "           4       0.91      0.89      0.90       982\n",
            "           5       0.85      0.86      0.86       892\n",
            "           6       0.92      0.94      0.93       958\n",
            "           7       0.93      0.89      0.91      1028\n",
            "           8       0.86      0.88      0.87       974\n",
            "           9       0.86      0.89      0.87      1009\n",
            "\n",
            "    accuracy                           0.90     10000\n",
            "   macro avg       0.90      0.90      0.90     10000\n",
            "weighted avg       0.90      0.90      0.90     10000\n",
            "\n"
          ]
        }
      ],
      "source": [
        "# Accuracy of the trained neural network\n",
        "y_pred_proba = neural_net(x_train)\n",
        "y_pred = tf.argmax(y_pred_proba,axis=1)\n",
        "\n",
        "print(f\"Accuracy on train data: {accuracy(y_pred,y_train)}\\n\")\n",
        "\n",
        "# Testing the model on test data\n",
        "y_pred_proba = neural_net(x_test)\n",
        "y_pred = tf.argmax(y_pred_proba,axis=1)\n",
        "\n",
        "print(f\"Classification report on test data:\\n\"\n",
        "      f\"{classification_report(y_test,y_pred)}\")"
      ]
    },
    {
      "cell_type": "code",
      "execution_count": 196,
      "metadata": {
        "id": "_EEHAubOUSNY",
        "colab": {
          "base_uri": "https://localhost:8080/"
        },
        "outputId": "e9870e01-d348-49b1-a198-b112634f227a"
      },
      "outputs": [
        {
          "output_type": "stream",
          "name": "stdout",
          "text": [
            "Test on random 10 test data:\n",
            "Accuracy: 0.800000011920929\n",
            "F1-weighted: 0.8400000000000001\n"
          ]
        }
      ],
      "source": [
        "# Testing the trained neural network on 10 random images.\n",
        "n_test_imgs = y_test.size\n",
        "\n",
        "indices = np.random.choice(n_test_imgs,size=10,replace=False)\n",
        "x_test_10 = x_test[indices]\n",
        "y_test_10 = y_test[indices]\n",
        "\n",
        "y_pred_proba = neural_net(x_test_10)\n",
        "y_pred = tf.argmax(y_pred_proba,axis=1)\n",
        "\n",
        "accuracy_score = accuracy(y_pred,y_test_10)\n",
        "f1_weighted_score = f1_score(y_test_10,y_pred,average='weighted')\n",
        "\n",
        "print(f\"Test on random 10 test data:\\n\"\n",
        "      f\"Accuracy: {accuracy_score}\\n\"\n",
        "      f\"F1-weighted: {f1_weighted_score}\")"
      ]
    },
    {
      "cell_type": "code",
      "source": [
        "df = pd.DataFrame({'Prediction': y_pred,'True Target':y_test_10})\n",
        "df"
      ],
      "metadata": {
        "colab": {
          "base_uri": "https://localhost:8080/",
          "height": 363
        },
        "id": "ljcBSL_ipxzK",
        "outputId": "adec3803-d074-439f-b998-2309c602c537"
      },
      "execution_count": 197,
      "outputs": [
        {
          "output_type": "execute_result",
          "data": {
            "text/plain": [
              "   Prediction  True Target\n",
              "0           4            4\n",
              "1           8            8\n",
              "2           9            7\n",
              "3           1            1\n",
              "4           3            3\n",
              "5           3            3\n",
              "6           8            8\n",
              "7           5            6\n",
              "8           6            6\n",
              "9           6            6"
            ],
            "text/html": [
              "\n",
              "  <div id=\"df-cfb053c6-e57e-44db-8762-ddc258ff2b0b\" class=\"colab-df-container\">\n",
              "    <div>\n",
              "<style scoped>\n",
              "    .dataframe tbody tr th:only-of-type {\n",
              "        vertical-align: middle;\n",
              "    }\n",
              "\n",
              "    .dataframe tbody tr th {\n",
              "        vertical-align: top;\n",
              "    }\n",
              "\n",
              "    .dataframe thead th {\n",
              "        text-align: right;\n",
              "    }\n",
              "</style>\n",
              "<table border=\"1\" class=\"dataframe\">\n",
              "  <thead>\n",
              "    <tr style=\"text-align: right;\">\n",
              "      <th></th>\n",
              "      <th>Prediction</th>\n",
              "      <th>True Target</th>\n",
              "    </tr>\n",
              "  </thead>\n",
              "  <tbody>\n",
              "    <tr>\n",
              "      <th>0</th>\n",
              "      <td>4</td>\n",
              "      <td>4</td>\n",
              "    </tr>\n",
              "    <tr>\n",
              "      <th>1</th>\n",
              "      <td>8</td>\n",
              "      <td>8</td>\n",
              "    </tr>\n",
              "    <tr>\n",
              "      <th>2</th>\n",
              "      <td>9</td>\n",
              "      <td>7</td>\n",
              "    </tr>\n",
              "    <tr>\n",
              "      <th>3</th>\n",
              "      <td>1</td>\n",
              "      <td>1</td>\n",
              "    </tr>\n",
              "    <tr>\n",
              "      <th>4</th>\n",
              "      <td>3</td>\n",
              "      <td>3</td>\n",
              "    </tr>\n",
              "    <tr>\n",
              "      <th>5</th>\n",
              "      <td>3</td>\n",
              "      <td>3</td>\n",
              "    </tr>\n",
              "    <tr>\n",
              "      <th>6</th>\n",
              "      <td>8</td>\n",
              "      <td>8</td>\n",
              "    </tr>\n",
              "    <tr>\n",
              "      <th>7</th>\n",
              "      <td>5</td>\n",
              "      <td>6</td>\n",
              "    </tr>\n",
              "    <tr>\n",
              "      <th>8</th>\n",
              "      <td>6</td>\n",
              "      <td>6</td>\n",
              "    </tr>\n",
              "    <tr>\n",
              "      <th>9</th>\n",
              "      <td>6</td>\n",
              "      <td>6</td>\n",
              "    </tr>\n",
              "  </tbody>\n",
              "</table>\n",
              "</div>\n",
              "    <div class=\"colab-df-buttons\">\n",
              "\n",
              "  <div class=\"colab-df-container\">\n",
              "    <button class=\"colab-df-convert\" onclick=\"convertToInteractive('df-cfb053c6-e57e-44db-8762-ddc258ff2b0b')\"\n",
              "            title=\"Convert this dataframe to an interactive table.\"\n",
              "            style=\"display:none;\">\n",
              "\n",
              "  <svg xmlns=\"http://www.w3.org/2000/svg\" height=\"24px\" viewBox=\"0 -960 960 960\">\n",
              "    <path d=\"M120-120v-720h720v720H120Zm60-500h600v-160H180v160Zm220 220h160v-160H400v160Zm0 220h160v-160H400v160ZM180-400h160v-160H180v160Zm440 0h160v-160H620v160ZM180-180h160v-160H180v160Zm440 0h160v-160H620v160Z\"/>\n",
              "  </svg>\n",
              "    </button>\n",
              "\n",
              "  <style>\n",
              "    .colab-df-container {\n",
              "      display:flex;\n",
              "      gap: 12px;\n",
              "    }\n",
              "\n",
              "    .colab-df-convert {\n",
              "      background-color: #E8F0FE;\n",
              "      border: none;\n",
              "      border-radius: 50%;\n",
              "      cursor: pointer;\n",
              "      display: none;\n",
              "      fill: #1967D2;\n",
              "      height: 32px;\n",
              "      padding: 0 0 0 0;\n",
              "      width: 32px;\n",
              "    }\n",
              "\n",
              "    .colab-df-convert:hover {\n",
              "      background-color: #E2EBFA;\n",
              "      box-shadow: 0px 1px 2px rgba(60, 64, 67, 0.3), 0px 1px 3px 1px rgba(60, 64, 67, 0.15);\n",
              "      fill: #174EA6;\n",
              "    }\n",
              "\n",
              "    .colab-df-buttons div {\n",
              "      margin-bottom: 4px;\n",
              "    }\n",
              "\n",
              "    [theme=dark] .colab-df-convert {\n",
              "      background-color: #3B4455;\n",
              "      fill: #D2E3FC;\n",
              "    }\n",
              "\n",
              "    [theme=dark] .colab-df-convert:hover {\n",
              "      background-color: #434B5C;\n",
              "      box-shadow: 0px 1px 3px 1px rgba(0, 0, 0, 0.15);\n",
              "      filter: drop-shadow(0px 1px 2px rgba(0, 0, 0, 0.3));\n",
              "      fill: #FFFFFF;\n",
              "    }\n",
              "  </style>\n",
              "\n",
              "    <script>\n",
              "      const buttonEl =\n",
              "        document.querySelector('#df-cfb053c6-e57e-44db-8762-ddc258ff2b0b button.colab-df-convert');\n",
              "      buttonEl.style.display =\n",
              "        google.colab.kernel.accessAllowed ? 'block' : 'none';\n",
              "\n",
              "      async function convertToInteractive(key) {\n",
              "        const element = document.querySelector('#df-cfb053c6-e57e-44db-8762-ddc258ff2b0b');\n",
              "        const dataTable =\n",
              "          await google.colab.kernel.invokeFunction('convertToInteractive',\n",
              "                                                    [key], {});\n",
              "        if (!dataTable) return;\n",
              "\n",
              "        const docLinkHtml = 'Like what you see? Visit the ' +\n",
              "          '<a target=\"_blank\" href=https://colab.research.google.com/notebooks/data_table.ipynb>data table notebook</a>'\n",
              "          + ' to learn more about interactive tables.';\n",
              "        element.innerHTML = '';\n",
              "        dataTable['output_type'] = 'display_data';\n",
              "        await google.colab.output.renderOutput(dataTable, element);\n",
              "        const docLink = document.createElement('div');\n",
              "        docLink.innerHTML = docLinkHtml;\n",
              "        element.appendChild(docLink);\n",
              "      }\n",
              "    </script>\n",
              "  </div>\n",
              "\n",
              "\n",
              "<div id=\"df-229a727e-3a2c-4129-931e-71a1bfb82e43\">\n",
              "  <button class=\"colab-df-quickchart\" onclick=\"quickchart('df-229a727e-3a2c-4129-931e-71a1bfb82e43')\"\n",
              "            title=\"Suggest charts\"\n",
              "            style=\"display:none;\">\n",
              "\n",
              "<svg xmlns=\"http://www.w3.org/2000/svg\" height=\"24px\"viewBox=\"0 0 24 24\"\n",
              "     width=\"24px\">\n",
              "    <g>\n",
              "        <path d=\"M19 3H5c-1.1 0-2 .9-2 2v14c0 1.1.9 2 2 2h14c1.1 0 2-.9 2-2V5c0-1.1-.9-2-2-2zM9 17H7v-7h2v7zm4 0h-2V7h2v10zm4 0h-2v-4h2v4z\"/>\n",
              "    </g>\n",
              "</svg>\n",
              "  </button>\n",
              "\n",
              "<style>\n",
              "  .colab-df-quickchart {\n",
              "      --bg-color: #E8F0FE;\n",
              "      --fill-color: #1967D2;\n",
              "      --hover-bg-color: #E2EBFA;\n",
              "      --hover-fill-color: #174EA6;\n",
              "      --disabled-fill-color: #AAA;\n",
              "      --disabled-bg-color: #DDD;\n",
              "  }\n",
              "\n",
              "  [theme=dark] .colab-df-quickchart {\n",
              "      --bg-color: #3B4455;\n",
              "      --fill-color: #D2E3FC;\n",
              "      --hover-bg-color: #434B5C;\n",
              "      --hover-fill-color: #FFFFFF;\n",
              "      --disabled-bg-color: #3B4455;\n",
              "      --disabled-fill-color: #666;\n",
              "  }\n",
              "\n",
              "  .colab-df-quickchart {\n",
              "    background-color: var(--bg-color);\n",
              "    border: none;\n",
              "    border-radius: 50%;\n",
              "    cursor: pointer;\n",
              "    display: none;\n",
              "    fill: var(--fill-color);\n",
              "    height: 32px;\n",
              "    padding: 0;\n",
              "    width: 32px;\n",
              "  }\n",
              "\n",
              "  .colab-df-quickchart:hover {\n",
              "    background-color: var(--hover-bg-color);\n",
              "    box-shadow: 0 1px 2px rgba(60, 64, 67, 0.3), 0 1px 3px 1px rgba(60, 64, 67, 0.15);\n",
              "    fill: var(--button-hover-fill-color);\n",
              "  }\n",
              "\n",
              "  .colab-df-quickchart-complete:disabled,\n",
              "  .colab-df-quickchart-complete:disabled:hover {\n",
              "    background-color: var(--disabled-bg-color);\n",
              "    fill: var(--disabled-fill-color);\n",
              "    box-shadow: none;\n",
              "  }\n",
              "\n",
              "  .colab-df-spinner {\n",
              "    border: 2px solid var(--fill-color);\n",
              "    border-color: transparent;\n",
              "    border-bottom-color: var(--fill-color);\n",
              "    animation:\n",
              "      spin 1s steps(1) infinite;\n",
              "  }\n",
              "\n",
              "  @keyframes spin {\n",
              "    0% {\n",
              "      border-color: transparent;\n",
              "      border-bottom-color: var(--fill-color);\n",
              "      border-left-color: var(--fill-color);\n",
              "    }\n",
              "    20% {\n",
              "      border-color: transparent;\n",
              "      border-left-color: var(--fill-color);\n",
              "      border-top-color: var(--fill-color);\n",
              "    }\n",
              "    30% {\n",
              "      border-color: transparent;\n",
              "      border-left-color: var(--fill-color);\n",
              "      border-top-color: var(--fill-color);\n",
              "      border-right-color: var(--fill-color);\n",
              "    }\n",
              "    40% {\n",
              "      border-color: transparent;\n",
              "      border-right-color: var(--fill-color);\n",
              "      border-top-color: var(--fill-color);\n",
              "    }\n",
              "    60% {\n",
              "      border-color: transparent;\n",
              "      border-right-color: var(--fill-color);\n",
              "    }\n",
              "    80% {\n",
              "      border-color: transparent;\n",
              "      border-right-color: var(--fill-color);\n",
              "      border-bottom-color: var(--fill-color);\n",
              "    }\n",
              "    90% {\n",
              "      border-color: transparent;\n",
              "      border-bottom-color: var(--fill-color);\n",
              "    }\n",
              "  }\n",
              "</style>\n",
              "\n",
              "  <script>\n",
              "    async function quickchart(key) {\n",
              "      const quickchartButtonEl =\n",
              "        document.querySelector('#' + key + ' button');\n",
              "      quickchartButtonEl.disabled = true;  // To prevent multiple clicks.\n",
              "      quickchartButtonEl.classList.add('colab-df-spinner');\n",
              "      try {\n",
              "        const charts = await google.colab.kernel.invokeFunction(\n",
              "            'suggestCharts', [key], {});\n",
              "      } catch (error) {\n",
              "        console.error('Error during call to suggestCharts:', error);\n",
              "      }\n",
              "      quickchartButtonEl.classList.remove('colab-df-spinner');\n",
              "      quickchartButtonEl.classList.add('colab-df-quickchart-complete');\n",
              "    }\n",
              "    (() => {\n",
              "      let quickchartButtonEl =\n",
              "        document.querySelector('#df-229a727e-3a2c-4129-931e-71a1bfb82e43 button');\n",
              "      quickchartButtonEl.style.display =\n",
              "        google.colab.kernel.accessAllowed ? 'block' : 'none';\n",
              "    })();\n",
              "  </script>\n",
              "</div>\n",
              "\n",
              "  <div id=\"id_82d80c18-cd6c-4fb3-9cf2-48e7c39b3455\">\n",
              "    <style>\n",
              "      .colab-df-generate {\n",
              "        background-color: #E8F0FE;\n",
              "        border: none;\n",
              "        border-radius: 50%;\n",
              "        cursor: pointer;\n",
              "        display: none;\n",
              "        fill: #1967D2;\n",
              "        height: 32px;\n",
              "        padding: 0 0 0 0;\n",
              "        width: 32px;\n",
              "      }\n",
              "\n",
              "      .colab-df-generate:hover {\n",
              "        background-color: #E2EBFA;\n",
              "        box-shadow: 0px 1px 2px rgba(60, 64, 67, 0.3), 0px 1px 3px 1px rgba(60, 64, 67, 0.15);\n",
              "        fill: #174EA6;\n",
              "      }\n",
              "\n",
              "      [theme=dark] .colab-df-generate {\n",
              "        background-color: #3B4455;\n",
              "        fill: #D2E3FC;\n",
              "      }\n",
              "\n",
              "      [theme=dark] .colab-df-generate:hover {\n",
              "        background-color: #434B5C;\n",
              "        box-shadow: 0px 1px 3px 1px rgba(0, 0, 0, 0.15);\n",
              "        filter: drop-shadow(0px 1px 2px rgba(0, 0, 0, 0.3));\n",
              "        fill: #FFFFFF;\n",
              "      }\n",
              "    </style>\n",
              "    <button class=\"colab-df-generate\" onclick=\"generateWithVariable('df')\"\n",
              "            title=\"Generate code using this dataframe.\"\n",
              "            style=\"display:none;\">\n",
              "\n",
              "  <svg xmlns=\"http://www.w3.org/2000/svg\" height=\"24px\"viewBox=\"0 0 24 24\"\n",
              "       width=\"24px\">\n",
              "    <path d=\"M7,19H8.4L18.45,9,17,7.55,7,17.6ZM5,21V16.75L18.45,3.32a2,2,0,0,1,2.83,0l1.4,1.43a1.91,1.91,0,0,1,.58,1.4,1.91,1.91,0,0,1-.58,1.4L9.25,21ZM18.45,9,17,7.55Zm-12,3A5.31,5.31,0,0,0,4.9,8.1,5.31,5.31,0,0,0,1,6.5,5.31,5.31,0,0,0,4.9,4.9,5.31,5.31,0,0,0,6.5,1,5.31,5.31,0,0,0,8.1,4.9,5.31,5.31,0,0,0,12,6.5,5.46,5.46,0,0,0,6.5,12Z\"/>\n",
              "  </svg>\n",
              "    </button>\n",
              "    <script>\n",
              "      (() => {\n",
              "      const buttonEl =\n",
              "        document.querySelector('#id_82d80c18-cd6c-4fb3-9cf2-48e7c39b3455 button.colab-df-generate');\n",
              "      buttonEl.style.display =\n",
              "        google.colab.kernel.accessAllowed ? 'block' : 'none';\n",
              "\n",
              "      buttonEl.onclick = () => {\n",
              "        google.colab.notebook.generateWithVariable('df');\n",
              "      }\n",
              "      })();\n",
              "    </script>\n",
              "  </div>\n",
              "\n",
              "    </div>\n",
              "  </div>\n"
            ],
            "application/vnd.google.colaboratory.intrinsic+json": {
              "type": "dataframe",
              "variable_name": "df",
              "summary": "{\n  \"name\": \"df\",\n  \"rows\": 10,\n  \"fields\": [\n    {\n      \"column\": \"Prediction\",\n      \"properties\": {\n        \"dtype\": \"number\",\n        \"std\": 2,\n        \"min\": 1,\n        \"max\": 9,\n        \"num_unique_values\": 7,\n        \"samples\": [\n          4,\n          8,\n          5\n        ],\n        \"semantic_type\": \"\",\n        \"description\": \"\"\n      }\n    },\n    {\n      \"column\": \"True Target\",\n      \"properties\": {\n        \"dtype\": \"uint8\",\n        \"num_unique_values\": 6,\n        \"samples\": [\n          4,\n          8,\n          6\n        ],\n        \"semantic_type\": \"\",\n        \"description\": \"\"\n      }\n    }\n  ]\n}"
            }
          },
          "metadata": {},
          "execution_count": 197
        }
      ]
    },
    {
      "cell_type": "code",
      "source": [
        "# Cross-validation\n",
        "features = np.vstack((x_train,x_test))\n",
        "targets = np.concatenate((y_train,y_test))\n",
        "\n",
        "accuracy_list = []\n",
        "f1_weighted_list = []\n",
        "roc_auc_weighted_list = []\n",
        "\n",
        "cv = StratifiedKFold(n_splits=10,shuffle=True,random_state=1)\n",
        "\n",
        "for train_i, test_i in cv.split(features,targets):\n",
        "\n",
        "    x_train_cv = tf.convert_to_tensor(features[train_i],dtype=tf.float32)\n",
        "    y_train_cv = tf.convert_to_tensor(targets[train_i],dtype=tf.int32)\n",
        "\n",
        "    x_test_cv = features[test_i]\n",
        "    y_test_cv = tf.convert_to_tensor(targets[test_i],dtype=tf.int32)\n",
        "\n",
        "    model = NN()\n",
        "\n",
        "    train_cv = tf.data.Dataset.from_tensor_slices((x_train_cv,y_train_cv))\n",
        "    train_cv = train_cv.repeat().batch(batch_size).prefetch(tf.data.AUTOTUNE)\n",
        "    for batch_x, batch_y in train_cv.take(training_steps):\n",
        "        train(model,batch_x,batch_y)\n",
        "\n",
        "    y_pred_proba = model(x_test_cv)\n",
        "    y_pred = tf.argmax(y_pred_proba,axis=1,output_type=tf.int32)\n",
        "\n",
        "    accuracy_list.append(accuracy(y_pred,y_test_cv))\n",
        "    f1_weighted_list.append(f1_score(y_test_cv,y_pred,average='weighted'))\n",
        "    roc_auc_weighted_list.append(roc_auc_score(y_test_cv,y_pred_proba,multi_class='ovr',average='weighted'))\n",
        "\n",
        "print(f\"Results CV:\\n\"\n",
        "      f\"Accuracy: {np.mean(accuracy_list)}\\n\"\n",
        "      f\"F1-weighted: {np.mean(f1_weighted_list)}\\n\"\n",
        "      f\"ROC-AUC-weighted: {np.mean(roc_auc_weighted_list)}\")"
      ],
      "metadata": {
        "colab": {
          "base_uri": "https://localhost:8080/"
        },
        "id": "PREtfOZbqsld",
        "outputId": "3820af0e-064a-4a84-b6d0-294692948e1d"
      },
      "execution_count": 198,
      "outputs": [
        {
          "output_type": "stream",
          "name": "stdout",
          "text": [
            "Results CV:\n",
            "Accuracy: 0.8987285494804382\n",
            "F1-weighted: 0.8986690733814392\n",
            "ROC-AUC-weighted: 0.9919861132681692\n"
          ]
        }
      ]
    },
    {
      "cell_type": "markdown",
      "source": [
        "## Conclusion."
      ],
      "metadata": {
        "id": "s6gmulGmKlcx"
      }
    },
    {
      "cell_type": "markdown",
      "source": [
        "### **English**\n",
        "\n",
        "---\n",
        "\n",
        "The model was successfully built, as evidenced by the effective decrease in the loss function and a significant increase in accuracy during training (this can be seen in the graphs). On the training data, the model achieved an **Accuracy** of **92.11%**, indicating good quality.\n",
        "\n",
        "The model was tested using various quality metrics:\n",
        "- **Precision**: high precision for all classes, especially for classes 1 (0.97), 7 (0.93), and 0 (0.94).\n",
        "- **Recall**: also stable values, indicating that the model effectively recognizes most classes, particularly classes 1, 0 and 6.\n",
        "- **F1-Score**: good values, especially for classes 0 (0.95) and 1 (0.98), confirming the balance between precision and recall.\n",
        "\n",
        "Cross-validation showed that the model has an average **Accuracy** of around **89.87%**, which is a good indicator. **F1-weighted** is **0.89**, and **ROC-AUC-weighted** reaches **0.99**, indicating a high ability of the model to distinguish between classes.\n",
        "\n",
        "Additionally, when tested on random 10 test data, the model showed an **Accuracy** of **80%** and **F1-weighted** of **0.84**, confirming the model's robustness on small samples.\n",
        "\n",
        "Overall, it can be stated that the model correctly recognizes 8-9 digits out of 10, indicating a high level of quality.\n",
        "\n",
        "### **Ukrainian**\n",
        "\n",
        "---\n",
        "\n",
        "Модель успішно побудована, про що свідчить ефективне зниження функції втрат і значне підвищення точності під час навчання (це можна побачити на графіках). На навчальних даних модель досягла **точності** **92.11%**, що свідчить про хорошу якість.\n",
        "\n",
        "Модель була протестована за допомогою різних метрик якості:\n",
        "- **Точність**: висока точність для всіх класів, особливо для класів 1 (0.97), 7 (0.93), і 0 (0.94)\n",
        "- **Відповідність**: також стабільні значення, що свідчить про те, що модель ефективно розпізнає більшість класів, зокрема класи 1, 0 і 6.\n",
        "- **F1-міра**: хороші значення, особливо для класу 0 (0.95) і 1 (0.98), що підтверджує баланс між точністю та відповідністю.\n",
        "\n",
        "Крос-валідація показала, що модель має середню **точність** приблизно **89.87%**, що є хорошим показником. **F1-міра зважена** становить **0.89**, а **ROC-AUC зважений** досягає **0.99**, що свідчить про високу здатність моделі розрізняти між класами.\n",
        "\n",
        "Крім того, при тестуванні на випадкових 10 тестових даних модель показала **точність** **80%** і **F1-міру зважену** **0.84**, що підтверджує надійність моделі на малих вибірках.\n",
        "\n",
        "Загалом можна сказати, що модель правильно розпізнає 8-9 цифр з 10, що свідчить про високий рівень якості.\n"
      ],
      "metadata": {
        "id": "Esx1t8UWOUQd"
      }
    }
  ],
  "metadata": {
    "colab": {
      "provenance": [],
      "include_colab_link": true
    },
    "kernelspec": {
      "display_name": "Python 3 (ipykernel)",
      "language": "python",
      "name": "python3"
    },
    "language_info": {
      "codemirror_mode": {
        "name": "ipython",
        "version": 3
      },
      "file_extension": ".py",
      "mimetype": "text/x-python",
      "name": "python",
      "nbconvert_exporter": "python",
      "pygments_lexer": "ipython3",
      "version": "3.9.2"
    }
  },
  "nbformat": 4,
  "nbformat_minor": 0
}